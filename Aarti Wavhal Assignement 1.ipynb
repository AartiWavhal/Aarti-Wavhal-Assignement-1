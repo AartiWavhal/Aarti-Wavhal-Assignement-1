{
 "cells": [
  {
   "cell_type": "code",
   "execution_count": null,
   "id": "613ae018",
   "metadata": {},
   "outputs": [],
   "source": [
    "##Q.1 ** What is 7 to the power of 4?**"
   ]
  },
  {
   "cell_type": "code",
   "execution_count": 2,
   "id": "a7da14fd",
   "metadata": {},
   "outputs": [
    {
     "data": {
      "text/plain": [
       "2401"
      ]
     },
     "execution_count": 2,
     "metadata": {},
     "output_type": "execute_result"
    }
   ],
   "source": [
    "7**4"
   ]
  },
  {
   "cell_type": "code",
   "execution_count": null,
   "id": "3689a04d",
   "metadata": {},
   "outputs": [],
   "source": [
    "##Q.2 ** Split this string:**\n",
    "\n",
    "s = \"Hi there Yogesh!\"\n",
    "*into a list. *"
   ]
  },
  {
   "cell_type": "code",
   "execution_count": 5,
   "id": "5cede609",
   "metadata": {},
   "outputs": [],
   "source": [
    "s=\"Hi there Yogesh!\""
   ]
  },
  {
   "cell_type": "code",
   "execution_count": 6,
   "id": "afd1ab14",
   "metadata": {},
   "outputs": [
    {
     "data": {
      "text/plain": [
       "['Hi', 'there', 'Yogesh!']"
      ]
     },
     "execution_count": 6,
     "metadata": {},
     "output_type": "execute_result"
    }
   ],
   "source": [
    "s.split()"
   ]
  },
  {
   "cell_type": "code",
   "execution_count": null,
   "id": "456e2407",
   "metadata": {},
   "outputs": [],
   "source": []
  },
  {
   "cell_type": "code",
   "execution_count": null,
   "id": "7231697c",
   "metadata": {},
   "outputs": [],
   "source": [
    "##Q.3 ** Given the variables:**\n",
    "\n",
    "planet = \"Earth\"\n",
    "diameter = 12742\n",
    "** Use .format() to print the following string: **\n",
    "\n",
    "The diameter of Earth is 12742 kilometer"
   ]
  },
  {
   "cell_type": "code",
   "execution_count": 7,
   "id": "e0534862",
   "metadata": {},
   "outputs": [],
   "source": [
    "planet = \"Earth\"\n",
    "diameter = 12742"
   ]
  },
  {
   "cell_type": "code",
   "execution_count": 8,
   "id": "6bfb54d8",
   "metadata": {},
   "outputs": [
    {
     "data": {
      "text/plain": [
       "'The diameter of Earth is 12742 kilometers.'"
      ]
     },
     "execution_count": 8,
     "metadata": {},
     "output_type": "execute_result"
    }
   ],
   "source": [
    "'The diameter of {} is {} kilometers.'.format(planet,diameter)"
   ]
  },
  {
   "cell_type": "code",
   "execution_count": 9,
   "id": "a50b9d64",
   "metadata": {},
   "outputs": [],
   "source": [
    "##Q.4 ** Given this nested list, use indexing to grab the word \"hello\" **\n",
    "\n",
    "lst = [1,2,[3,4],[5,[100,200,['hello']],23,11],1,7]"
   ]
  },
  {
   "cell_type": "code",
   "execution_count": 11,
   "id": "55aa2baa",
   "metadata": {},
   "outputs": [
    {
     "data": {
      "text/plain": [
       "'hello'"
      ]
     },
     "execution_count": 11,
     "metadata": {},
     "output_type": "execute_result"
    }
   ],
   "source": [
    "lst[3][1][2][0]"
   ]
  },
  {
   "cell_type": "code",
   "execution_count": 12,
   "id": "c43ad0bf",
   "metadata": {},
   "outputs": [],
   "source": [
    "##Q.5 ** Given this nested dictionary grab the word \"hello\". Be prepared, this will be annoying/tricky **\n",
    "\n",
    "d = {'k1':[1,2,3,{'tricky':['oh','man','inception',{'target':[1,2,3,'hello']}]}]}"
   ]
  },
  {
   "cell_type": "code",
   "execution_count": 13,
   "id": "46d19bc9",
   "metadata": {},
   "outputs": [
    {
     "data": {
      "text/plain": [
       "{'k1': [1,\n",
       "  2,\n",
       "  3,\n",
       "  {'tricky': ['oh', 'man', 'inception', {'target': [1, 2, 3, 'hello']}]}]}"
      ]
     },
     "execution_count": 13,
     "metadata": {},
     "output_type": "execute_result"
    }
   ],
   "source": [
    "d"
   ]
  },
  {
   "cell_type": "code",
   "execution_count": 14,
   "id": "4a728b8a",
   "metadata": {},
   "outputs": [
    {
     "data": {
      "text/plain": [
       "[1,\n",
       " 2,\n",
       " 3,\n",
       " {'tricky': ['oh', 'man', 'inception', {'target': [1, 2, 3, 'hello']}]}]"
      ]
     },
     "execution_count": 14,
     "metadata": {},
     "output_type": "execute_result"
    }
   ],
   "source": [
    "d['k1']"
   ]
  },
  {
   "cell_type": "code",
   "execution_count": 17,
   "id": "61e6a542",
   "metadata": {},
   "outputs": [
    {
     "data": {
      "text/plain": [
       "{'tricky': ['oh', 'man', 'inception', {'target': [1, 2, 3, 'hello']}]}"
      ]
     },
     "execution_count": 17,
     "metadata": {},
     "output_type": "execute_result"
    }
   ],
   "source": [
    "d['k1'][3]"
   ]
  },
  {
   "cell_type": "code",
   "execution_count": 18,
   "id": "9d3800c1",
   "metadata": {},
   "outputs": [
    {
     "data": {
      "text/plain": [
       "['oh', 'man', 'inception', {'target': [1, 2, 3, 'hello']}]"
      ]
     },
     "execution_count": 18,
     "metadata": {},
     "output_type": "execute_result"
    }
   ],
   "source": [
    "d['k1'][3]['tricky']"
   ]
  },
  {
   "cell_type": "code",
   "execution_count": 19,
   "id": "b8e8adfc",
   "metadata": {},
   "outputs": [
    {
     "data": {
      "text/plain": [
       "{'target': [1, 2, 3, 'hello']}"
      ]
     },
     "execution_count": 19,
     "metadata": {},
     "output_type": "execute_result"
    }
   ],
   "source": [
    "d['k1'][3]['tricky'][3]"
   ]
  },
  {
   "cell_type": "code",
   "execution_count": 20,
   "id": "29f8afc2",
   "metadata": {},
   "outputs": [
    {
     "data": {
      "text/plain": [
       "[1, 2, 3, 'hello']"
      ]
     },
     "execution_count": 20,
     "metadata": {},
     "output_type": "execute_result"
    }
   ],
   "source": [
    "d['k1'][3]['tricky'][3]['target']"
   ]
  },
  {
   "cell_type": "code",
   "execution_count": 21,
   "id": "86a33778",
   "metadata": {},
   "outputs": [
    {
     "data": {
      "text/plain": [
       "'hello'"
      ]
     },
     "execution_count": 21,
     "metadata": {},
     "output_type": "execute_result"
    }
   ],
   "source": [
    "d['k1'][3]['tricky'][3]['target'][3]"
   ]
  },
  {
   "cell_type": "code",
   "execution_count": null,
   "id": "62e4a681",
   "metadata": {},
   "outputs": [],
   "source": [
    "##Q.6 ** Create a function that grabs the email website domain from a string in the form: **\n",
    "user@domain.com\n",
    "So for example, passing \"user@domain.com\" would return: domain.com\n"
   ]
  },
  {
   "cell_type": "code",
   "execution_count": 30,
   "id": "49a3426a",
   "metadata": {},
   "outputs": [],
   "source": [
    "a='user@domain.com'"
   ]
  },
  {
   "cell_type": "code",
   "execution_count": 31,
   "id": "b1e39235",
   "metadata": {},
   "outputs": [
    {
     "data": {
      "text/plain": [
       "'user@domain.com'"
      ]
     },
     "execution_count": 31,
     "metadata": {},
     "output_type": "execute_result"
    }
   ],
   "source": [
    "a"
   ]
  },
  {
   "cell_type": "code",
   "execution_count": 32,
   "id": "6ef5af82",
   "metadata": {},
   "outputs": [
    {
     "data": {
      "text/plain": [
       "['user@domain', 'com']"
      ]
     },
     "execution_count": 32,
     "metadata": {},
     "output_type": "execute_result"
    }
   ],
   "source": [
    "a.split('.')"
   ]
  },
  {
   "cell_type": "code",
   "execution_count": 33,
   "id": "af5aa98e",
   "metadata": {},
   "outputs": [
    {
     "data": {
      "text/plain": [
       "['user', 'domain.com']"
      ]
     },
     "execution_count": 33,
     "metadata": {},
     "output_type": "execute_result"
    }
   ],
   "source": [
    "a.split('@')"
   ]
  },
  {
   "cell_type": "code",
   "execution_count": 34,
   "id": "f6f0bc61",
   "metadata": {},
   "outputs": [
    {
     "data": {
      "text/plain": [
       "'domain.com'"
      ]
     },
     "execution_count": 34,
     "metadata": {},
     "output_type": "execute_result"
    }
   ],
   "source": [
    "a.split('@')[1]"
   ]
  },
  {
   "cell_type": "code",
   "execution_count": 35,
   "id": "361e0d1a",
   "metadata": {},
   "outputs": [],
   "source": [
    "##Q.7 ** Create a basic function that returns True if the word 'dog' is contained in the input string. \n",
    "##Don't worry about edge cases like a punctuation being attached to the word dog, but do account for capitalization. **"
   ]
  },
  {
   "cell_type": "code",
   "execution_count": 37,
   "id": "6eca304c",
   "metadata": {},
   "outputs": [],
   "source": [
    "#1\n",
    "def finddog(s):\n",
    "    if 'dog' in s:\n",
    "        print ('true')\n",
    "    else:\n",
    "        print ('false')"
   ]
  },
  {
   "cell_type": "code",
   "execution_count": 39,
   "id": "2bbfa4b7",
   "metadata": {},
   "outputs": [
    {
     "name": "stdout",
     "output_type": "stream",
     "text": [
      "true\n"
     ]
    }
   ],
   "source": [
    "finddog('dig dog')"
   ]
  },
  {
   "cell_type": "code",
   "execution_count": 40,
   "id": "f10dfe03",
   "metadata": {},
   "outputs": [
    {
     "data": {
      "text/plain": [
       "True"
      ]
     },
     "execution_count": 40,
     "metadata": {},
     "output_type": "execute_result"
    }
   ],
   "source": [
    "#2\n",
    "'Dog'.lower() in 'this is a dog'"
   ]
  },
  {
   "cell_type": "code",
   "execution_count": 42,
   "id": "89c3140b",
   "metadata": {},
   "outputs": [
    {
     "name": "stdout",
     "output_type": "stream",
     "text": [
      "true\n"
     ]
    }
   ],
   "source": [
    "#3\n",
    "def find_dog(s):\n",
    "    return 'dog' in s.lower().split()"
   ]
  },
  {
   "cell_type": "code",
   "execution_count": 43,
   "id": "31d5638e",
   "metadata": {},
   "outputs": [],
   "source": [
    "##Q.8 ** Create a function that counts the number of times the word \"dog\" occurs in a string. Again ignore edge cases. **"
   ]
  },
  {
   "cell_type": "code",
   "execution_count": null,
   "id": "bf5e1854",
   "metadata": {},
   "outputs": [],
   "source": [
    "count('dog')"
   ]
  },
  {
   "cell_type": "code",
   "execution_count": 1,
   "id": "b06d7982",
   "metadata": {},
   "outputs": [],
   "source": [
    "def dog_count(s1):\n",
    "    c=0\n",
    "    for w in s1.lower().split():\n",
    "        if w=='dog':\n",
    "            c+=1\n",
    "    return c"
   ]
  },
  {
   "cell_type": "code",
   "execution_count": 2,
   "id": "9c809ddc",
   "metadata": {},
   "outputs": [
    {
     "data": {
      "text/plain": [
       "2"
      ]
     },
     "execution_count": 2,
     "metadata": {},
     "output_type": "execute_result"
    }
   ],
   "source": [
    "dog_count('dog dog')"
   ]
  },
  {
   "cell_type": "code",
   "execution_count": 3,
   "id": "2efc62c6",
   "metadata": {},
   "outputs": [
    {
     "data": {
      "text/plain": [
       "2"
      ]
     },
     "execution_count": 3,
     "metadata": {},
     "output_type": "execute_result"
    }
   ],
   "source": [
    "dog_count('This dog runs faster than the other dog dude!')"
   ]
  },
  {
   "cell_type": "code",
   "execution_count": null,
   "id": "71c831cf",
   "metadata": {},
   "outputs": [],
   "source": [
    "##Q.9 ** Use lambda expressions and the filter() function to filter out words from a list that don't start with the letter 's'. For example:**\n",
    "\n",
    "seq = ['soup','dog','salad','cat','great']\n",
    "should be filtered down to:\n",
    "\n",
    "['soup','salad']"
   ]
  },
  {
   "cell_type": "code",
   "execution_count": 4,
   "id": "f252db03",
   "metadata": {},
   "outputs": [],
   "source": [
    "seq = ['soup','dog','salad','cat','great']"
   ]
  },
  {
   "cell_type": "code",
   "execution_count": 5,
   "id": "35e8dc78",
   "metadata": {},
   "outputs": [
    {
     "data": {
      "text/plain": [
       "['soup', 'dog', 'salad', 'cat', 'great']"
      ]
     },
     "execution_count": 5,
     "metadata": {},
     "output_type": "execute_result"
    }
   ],
   "source": [
    "seq"
   ]
  },
  {
   "cell_type": "code",
   "execution_count": 6,
   "id": "6223d04a",
   "metadata": {},
   "outputs": [
    {
     "data": {
      "text/plain": [
       "(<function __main__.<lambda>(x)>, ['soup', 'dog', 'salad', 'cat', 'great'])"
      ]
     },
     "execution_count": 6,
     "metadata": {},
     "output_type": "execute_result"
    }
   ],
   "source": [
    "(lambda x:x[0]!='s', seq)"
   ]
  },
  {
   "cell_type": "code",
   "execution_count": 7,
   "id": "0172b686",
   "metadata": {},
   "outputs": [
    {
     "data": {
      "text/plain": [
       "<map at 0x25e395ccc40>"
      ]
     },
     "execution_count": 7,
     "metadata": {},
     "output_type": "execute_result"
    }
   ],
   "source": [
    "map(lambda x:x[0]!='s', seq)"
   ]
  },
  {
   "cell_type": "code",
   "execution_count": 8,
   "id": "067227d5",
   "metadata": {},
   "outputs": [
    {
     "data": {
      "text/plain": [
       "<filter at 0x25e395cccd0>"
      ]
     },
     "execution_count": 8,
     "metadata": {},
     "output_type": "execute_result"
    }
   ],
   "source": [
    "filter(lambda x:x[0]!='s', seq)"
   ]
  },
  {
   "cell_type": "code",
   "execution_count": 9,
   "id": "494636d5",
   "metadata": {},
   "outputs": [
    {
     "data": {
      "text/plain": [
       "[False, True, False, True, True]"
      ]
     },
     "execution_count": 9,
     "metadata": {},
     "output_type": "execute_result"
    }
   ],
   "source": [
    "list(map(lambda x:x[0]!='s', seq))"
   ]
  },
  {
   "cell_type": "code",
   "execution_count": 10,
   "id": "dd1465e0",
   "metadata": {},
   "outputs": [
    {
     "data": {
      "text/plain": [
       "['dog', 'cat', 'great']"
      ]
     },
     "execution_count": 10,
     "metadata": {},
     "output_type": "execute_result"
    }
   ],
   "source": [
    "list(filter(lambda x:x[0]!='s', seq))"
   ]
  },
  {
   "cell_type": "code",
   "execution_count": null,
   "id": "9b4741b8",
   "metadata": {},
   "outputs": [],
   "source": [
    "##10. Final Problem\n",
    "*You are driving a little too fast, and a police officer stops you. \n",
    "Write a function to return one of 3 possible results: \"No ticket\", \"Small ticket\", or \"Big Ticket\". \n",
    "If your speed is 60 or less, the result is \"No Ticket\". \n",
    "If speed is between 61 and 80 inclusive, the result is \"Small Ticket\". \n",
    "If speed is 81 or more, the result is \"Big Ticket\". \n",
    "Unless it is your birthday (encoded as a boolean value in the parameters of the function) -- \n",
    "on your birthday, your speed can be 5 higher in all cases. *"
   ]
  },
  {
   "cell_type": "code",
   "execution_count": 16,
   "id": "40b55a71",
   "metadata": {},
   "outputs": [],
   "source": [
    "def caught_speeding(d, birthday):\n",
    "    if birthday:\n",
    "         d_new=d-5\n",
    "    else:\n",
    "        d_new=d\n",
    "    if d_new>80:\n",
    "        print ('Big ticket')\n",
    "    elif d_new>60:\n",
    "        print ('Small ticket')\n",
    "    else:\n",
    "        print('No ticket') "
   ]
  },
  {
   "cell_type": "code",
   "execution_count": 17,
   "id": "d4090db1",
   "metadata": {},
   "outputs": [
    {
     "name": "stdout",
     "output_type": "stream",
     "text": [
      "Small ticket\n"
     ]
    }
   ],
   "source": [
    "caught_speeding(80,True)"
   ]
  },
  {
   "cell_type": "code",
   "execution_count": 19,
   "id": "8ccdfc56",
   "metadata": {},
   "outputs": [
    {
     "name": "stdout",
     "output_type": "stream",
     "text": [
      "Big ticket\n"
     ]
    }
   ],
   "source": [
    "caught_speeding(100,False)"
   ]
  },
  {
   "cell_type": "code",
   "execution_count": null,
   "id": "ad3bf5ca",
   "metadata": {},
   "outputs": [],
   "source": [
    "###11 Question\n",
    "Given a string print number num by extracting all the\n",
    "digits from the string as in string\n",
    "Print negative number if the first character in \n",
    "string is '-'\n",
    "eg.\n",
    "-123abcd should return -123,abcd456-->456,fdhfh78dsd89--->7889,-56dssd78-->-5678"
   ]
  },
  {
   "cell_type": "code",
   "execution_count": 21,
   "id": "50e9d988",
   "metadata": {},
   "outputs": [
    {
     "name": "stdout",
     "output_type": "stream",
     "text": [
      "Enter the number:kh78\n",
      "78\n"
     ]
    }
   ],
   "source": [
    "s=input(\"Enter the number:\")\n",
    "num=\"\"\n",
    "data=[0,1,2,3,4,5,6,7,8,9]\n",
    "if s[0]=='-':\n",
    "    num=num+s[0]\n",
    "for c in s:\n",
    "    if c in str(data):\n",
    "        num=num+c\n",
    "print(num)"
   ]
  },
  {
   "cell_type": "code",
   "execution_count": null,
   "id": "ebb74377",
   "metadata": {},
   "outputs": [],
   "source": [
    "##12 Q2\n",
    "WAP to check whether a number is palindrome or not on following conditions.\n",
    "1. take input number\n",
    "2. add number and its reverse\n",
    "3. check that number is palindrome or not,if not then sum and its reverse"
   ]
  },
  {
   "cell_type": "code",
   "execution_count": 22,
   "id": "2255fc27",
   "metadata": {},
   "outputs": [
    {
     "name": "stdout",
     "output_type": "stream",
     "text": [
      "Enter the Number:1586\n",
      "Number is: 8437\n",
      "Reverse is 7348\n",
      "Number is: 15785\n",
      "Reverse is 58751\n",
      "Number is: 74536\n",
      "Reverse is 63547\n",
      "Number is: 138083\n",
      "Reverse is 380831\n",
      "Number is: 518914\n",
      "Reverse is 419815\n",
      "Number is: 938729\n",
      "Reverse is 927839\n",
      "Number is: 1866568\n",
      "Reverse is 8656681\n",
      "Number is: 10523249\n",
      "Reverse is 94232501\n",
      "Number is: 104755750\n",
      "Reverse is 057557401\n",
      "Number is: 162313151\n",
      "Reverse is 151313261\n",
      "Number is: 313626412\n",
      "Reverse is 214626313\n",
      "Number is: 528252725\n",
      "Reverse is 527252825\n",
      "Number is: 1055505550\n",
      "Reverse is 0555055501\n",
      "Number is: 1610561051\n",
      "Reverse is 1501650161\n",
      "Number is: 3112211212\n",
      "Reverse is 2121122113\n",
      "Number is: 5233333325\n",
      "Reverse is 5233333325\n",
      "palindrome is: 5233333325\n"
     ]
    }
   ],
   "source": [
    "num1=input(\"Enter the Number:\")\n",
    "num2=int(num1[::-1])\n",
    "num3=str(int(num1)+num2)\n",
    "print(\"Number is:\",num3)\n",
    "print(\"Reverse is\",num3[::-1])\n",
    "while num3!=num3[::-1]:\n",
    "    num3=str(int(num3)+int(num3[::-1]))\n",
    "    print(\"Number is:\",num3)\n",
    "    print(\"Reverse is\",num3[::-1])\n",
    "print(\"palindrome is:\",num3)"
   ]
  },
  {
   "cell_type": "code",
   "execution_count": null,
   "id": "e9fe5d18",
   "metadata": {},
   "outputs": [],
   "source": [
    "##13 Write a python function to find and display the five \n",
    "digit number in which the first digit is two more than \n",
    "the second,the second digit is two more than the third,\n",
    "the fourth digit is two less than the third, and the \n",
    "last digit is two more than\n",
    "the fourth.The sum of the third,fourth and fifth digits\n",
    "equals the first.The sum of all the digits is 19"
   ]
  },
  {
   "cell_type": "code",
   "execution_count": null,
   "id": "06384c08",
   "metadata": {},
   "outputs": [],
   "source": [
    "abcde\n",
    "b=a-2\n",
    "c=b-2\n",
    "d=c-2\n",
    "d=e-2\n",
    "c+d+e=a\n",
    "a+b+c+d+e=19"
   ]
  },
  {
   "cell_type": "code",
   "execution_count": 35,
   "id": "bf74fa64",
   "metadata": {},
   "outputs": [],
   "source": [
    "def fun1():\n",
    "    for a in range(0,10):\n",
    "        b=a-2\n",
    "        c=b-2\n",
    "        d=c-2\n",
    "        if c+d+c==a and a+b+c+d+c==19:\n",
    "             print(str(a)+str(b)+str(c)+str(d)+str(c))"
   ]
  },
  {
   "cell_type": "code",
   "execution_count": 36,
   "id": "0e34825f",
   "metadata": {},
   "outputs": [
    {
     "name": "stdout",
     "output_type": "stream",
     "text": [
      "75313\n"
     ]
    }
   ],
   "source": [
    "fun1()"
   ]
  },
  {
   "cell_type": "code",
   "execution_count": 37,
   "id": "62b72282",
   "metadata": {},
   "outputs": [
    {
     "data": {
      "text/plain": [
       "'C:\\\\Users\\\\admin'"
      ]
     },
     "execution_count": 37,
     "metadata": {},
     "output_type": "execute_result"
    }
   ],
   "source": [
    "pwd"
   ]
  },
  {
   "cell_type": "code",
   "execution_count": null,
   "id": "1bc56424",
   "metadata": {},
   "outputs": [],
   "source": []
  }
 ],
 "metadata": {
  "kernelspec": {
   "display_name": "Python 3 (ipykernel)",
   "language": "python",
   "name": "python3"
  },
  "language_info": {
   "codemirror_mode": {
    "name": "ipython",
    "version": 3
   },
   "file_extension": ".py",
   "mimetype": "text/x-python",
   "name": "python",
   "nbconvert_exporter": "python",
   "pygments_lexer": "ipython3",
   "version": "3.9.13"
  }
 },
 "nbformat": 4,
 "nbformat_minor": 5
}
